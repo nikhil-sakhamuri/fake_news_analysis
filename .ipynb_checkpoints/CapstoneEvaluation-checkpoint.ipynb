{
 "cells": [
  {
   "cell_type": "code",
   "execution_count": null,
   "id": "b623b43a",
   "metadata": {},
   "outputs": [],
   "source": [
    "import numpy as np\n",
    "import pandas as pd\n",
    "import matplotlib.pyplot as plt\n",
    "import time\n",
    "import seaborn as sns\n",
    "import string\n",
    "\n",
    "#from eli5 import show_weights, TextExplainer\n",
    "#from wordcloud import WordCloud, STOPWORDS\n",
    "\n",
    "import nltk\n",
    "nltk.download('stopwords')\n",
    "from nltk.stem import PorterStemmer, WordNetLemmatizer\n",
    "from nltk import word_tokenize\n",
    "from nltk.corpus import stopwords\n",
    "from wordcloud import WordCloud, STOPWORDS\n",
    "\n",
    "from sklearn.pipeline import Pipeline\n",
    "from sklearn.feature_extraction.text import CountVectorizer, TfidfVectorizer\n",
    "from sklearn.model_selection import train_test_split, GridSearchCV, RandomizedSearchCV\n",
    "from sklearn.ensemble import RandomForestClassifier\n",
    "\n",
    "from sklearn.metrics import recall_score, precision_score, f1_score, accuracy_score, confusion_matrix, ConfusionMatrixDisplay\n"
   ]
  },
  {
   "cell_type": "code",
   "execution_count": null,
   "id": "85ff5b94",
   "metadata": {},
   "outputs": [],
   "source": [
    "real = pd.read_csv('./data/True.csv')\n",
    "fake = pd.read_csv('./data/Fake.csv')\n",
    "\n",
    "real['fake'] = 0\n",
    "fake['fake'] = 1"
   ]
  },
  {
   "cell_type": "code",
   "execution_count": null,
   "id": "c6e1cb83",
   "metadata": {},
   "outputs": [],
   "source": [
    "articles = pd.concat([real, fake])"
   ]
  },
  {
   "cell_type": "code",
   "execution_count": null,
   "id": "2585874a",
   "metadata": {},
   "outputs": [],
   "source": [
    "def preprocess_stem(text):\n",
    "    #Tokenize text\n",
    "    tokens = word_tokenize(text.lower())\n",
    "    \n",
    "    #define stop words and punctuation\n",
    "    stop_words = stopwords.words('english')\n",
    "    punc = list(string.punctuation)\n",
    "    \n",
    "    #Stem the tokens\n",
    "    stemmer = PorterStemmer()\n",
    "    stemmed_tokens = [stemmer.stem(token) for token in tokens if token not in stop_words and token not in punc]\n",
    "    \n",
    "    return ' '.join(stemmed_tokens)"
   ]
  },
  {
   "cell_type": "code",
   "execution_count": null,
   "id": "f8e19721",
   "metadata": {},
   "outputs": [],
   "source": [
    "X_train, X_test, y_train, y_test = train_test_split(articles['title'].apply(preprocess_stem), articles['fake'],\n",
    "                                                   test_size=0.25, random_state=42)"
   ]
  },
  {
   "cell_type": "code",
   "execution_count": null,
   "id": "7493bf7c",
   "metadata": {},
   "outputs": [],
   "source": [
    "rf_pipe = Pipeline([\n",
    "    ('vectorizer', TfidfVectorizer()),\n",
    "    ('model', RandomForestClassifier(max_depth=None,\n",
    "                                    max_features=5,\n",
    "                                    n_estimators=1000))\n",
    "])\n",
    "\n",
    "rf_pipe.fit(X_train, y_train)"
   ]
  },
  {
   "cell_type": "code",
   "execution_count": null,
   "id": "0b6b58a4",
   "metadata": {},
   "outputs": [],
   "source": [
    "y_pred = rf_pipe.predict(X_test)\n",
    "\n",
    "rf_accuracy = accuracy_score(y_test, y_pred)\n",
    "rf_precision = precision_score(y_test, y_pred)\n",
    "rf_recall = recall_score(y_test, y_pred)\n",
    "\n",
    "print('Metrics of Random Forest model:')\n",
    "print(f'Accuracy: {rf_accuracy}')\n",
    "print(f'Precision: {rf_precision}')\n",
    "print(f'Recall: {rf_recall}')"
   ]
  },
  {
   "cell_type": "code",
   "execution_count": null,
   "id": "ea058f67",
   "metadata": {},
   "outputs": [],
   "source": [
    "feature_importances = rf_pipe['model'].feature_importances_\n",
    "\n",
    "top_ind = np.argpartition(feature_importances, -25)[-25:]\n",
    "\n",
    "top_tokens = rf_pipe['vectorizer'].get_feature_names_out()[top_ind]\n",
    "top_tokens_importances = feature_importances[top_ind]"
   ]
  },
  {
   "cell_type": "code",
   "execution_count": null,
   "id": "ec970838",
   "metadata": {},
   "outputs": [],
   "source": [
    "fig, ax = plt.subplots(figsize=(12,6))\n",
    "\n",
    "_ = sns.barplot(x = top_tokens, y = top_tokens_importances, palette = 'cool',\n",
    "               order = [token for _, token in sorted(zip(top_tokens_importances, top_tokens), reverse=True)])\n",
    "_ = ax.set_xticklabels(ax.get_xticklabels(), rotation=90)\n",
    "_ = ax.set(xlabel='Token', ylabel='Importance', title='Top 25 tokens by Feature Importance in Random Forest Model')"
   ]
  },
  {
   "cell_type": "code",
   "execution_count": null,
   "id": "626a201e",
   "metadata": {},
   "outputs": [],
   "source": []
  }
 ],
 "metadata": {
  "kernelspec": {
   "display_name": "Python 3 (ipykernel)",
   "language": "python",
   "name": "python3"
  },
  "language_info": {
   "codemirror_mode": {
    "name": "ipython",
    "version": 3
   },
   "file_extension": ".py",
   "mimetype": "text/x-python",
   "name": "python",
   "nbconvert_exporter": "python",
   "pygments_lexer": "ipython3",
   "version": "3.9.13"
  }
 },
 "nbformat": 4,
 "nbformat_minor": 5
}
